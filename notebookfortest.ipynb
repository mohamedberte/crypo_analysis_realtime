{
 "cells": [
  {
   "cell_type": "code",
   "execution_count": null,
   "metadata": {},
   "outputs": [
    {
     "data": {
      "text/plain": [
       "'\\ncmc_ids = df[\"cmc_id\"].tolist()\\n\\n\\nurl = \"https://pro-api.coinmarketcap.com/v1/cryptocurrency/quotes/latest\"\\n\\n\\nheaders = {\\n    \"Accepts\": \"application/json\",\\n    \"X-CMC_PRO_API_KEY\": API_KEY,\\n}\\n\\n\\nparameters = {\\n    \"id\": \",\".join(map(str, cmc_ids)) \\n}\\n\\nresponse = requests.get(url, headers=headers, params=parameters)\\n\\nif response.status_code == 200:\\n    data = response.json()\\n    crypto_data = []\\n\\n    for cmc_id in cmc_ids:\\n        try:\\n            crypto_info = data[\\'data\\'][str(cmc_id)]\\n            crypto_data.append({\\n                \"cmc_id\": cmc_id,\\n                \"name\": crypto_info[\\'name\\'],\\n                \"symbol\": crypto_info[\\'symbol\\'],\\n                \"price\": crypto_info[\\'quote\\'][\\'USD\\'][\\'price\\'],\\n                \"volume_24h\": crypto_info[\\'quote\\'][\\'USD\\'][\\'volume_24h\\'],\\n                \"market_cap\": crypto_info[\\'quote\\'][\\'USD\\'][\\'market_cap\\'],\\n            })\\n        except KeyError:\\n            print(f\"Aucune donnée pour l\\'ID {cmc_id}\")\\n\\n    updated_df = pd.DataFrame(crypto_data)\\n\\n    updated_df.to_csv(FILE_NAME, index=False)\\n\\n    print(\"Les données ont été sauvegardées dans \\'crypto_data_updated.csv\\'.\")\\nelse:\\n    print(\"Erreur avec l\\'API:\", response.status_code, response.text)\\n'"
      ]
     },
     "execution_count": 4,
     "metadata": {},
     "output_type": "execute_result"
    }
   ],
   "source": [
    "import pandas as pd\n",
    "import requests\n",
    "from datetime import datetime\n",
    "\n",
    "\n",
    "API_KEY=\"b88ee10c-aa4f-4152-9968-5ed0d9c74060\"\n",
    "\n",
    "DATE_TODAY = datetime.now().strftime(\"%Y-%m-%d\")  # Format : YYYY-MM-DD\n",
    "OUTPUT_FILE_NAME = f\"crypto_data_updated_{DATE_TODAY}.csv\"\n",
    "INPUT_FILE_NAME = \"data/cryptos.csv\"\n",
    "\n",
    "cryptos_list = pd.read_csv(INPUT_FILE_NAME, sep=';')\n",
    "\n",
    "cmc_ids = cryptos_list[\"cmc_id\"].tolist()\n",
    "\n",
    "\n",
    "url = \"https://pro-api.coinmarketcap.com/v1/cryptocurrency/quotes/latest\"\n",
    "\n",
    "\n",
    "headers = {\n",
    "    \"Accepts\": \"application/json\",\n",
    "    \"X-CMC_PRO_API_KEY\": API_KEY,\n",
    "}\n",
    "\n",
    "\n",
    "parameters = {\n",
    "    \"id\": \",\".join(map(str, cmc_ids)) \n",
    "}\n",
    "\n",
    "response = requests.get(url, headers=headers, params=parameters)\n",
    "\n",
    "if response.status_code == 200:\n",
    "    data = response.json()\n",
    "    crypto_data = []\n",
    "\n",
    "    for cmc_id in cmc_ids:\n",
    "        try:\n",
    "            crypto_info = data['data'][str(cmc_id)]\n",
    "            crypto_data.append({\n",
    "                \"cmc_id\": cmc_id,\n",
    "                \"name\": crypto_info['name'],\n",
    "                \"symbol\": crypto_info['symbol'],\n",
    "                \"price\": crypto_info['quote']['USD']['price'],\n",
    "                \"volume_24h\": crypto_info['quote']['USD']['volume_24h'],\n",
    "                \"market_cap\": crypto_info['quote']['USD']['market_cap'],\n",
    "            })\n",
    "        except KeyError:\n",
    "            print(f\"Aucune donnée pour l'ID {cmc_id}\")\n",
    "\n",
    "    updated_df = pd.DataFrame(crypto_data)\n",
    "\n",
    "    updated_df.to_csv(FILE_NAME, index=False)\n",
    "\n",
    "    print(\"Les données ont été sauvegardées dans 'crypto_data_updated.csv'.\")\n",
    "else:\n",
    "    print(\"Erreur avec l'API:\", response.status_code, response.text)"
   ]
  }
 ],
 "metadata": {
  "kernelspec": {
   "display_name": "Python 3",
   "language": "python",
   "name": "python3"
  },
  "language_info": {
   "codemirror_mode": {
    "name": "ipython",
    "version": 3
   },
   "file_extension": ".py",
   "mimetype": "text/x-python",
   "name": "python",
   "nbconvert_exporter": "python",
   "pygments_lexer": "ipython3",
   "version": "3.10.7"
  }
 },
 "nbformat": 4,
 "nbformat_minor": 2
}
